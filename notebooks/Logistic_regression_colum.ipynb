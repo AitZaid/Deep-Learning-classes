{
 "cells": [
  {
   "cell_type": "markdown",
   "metadata": {},
   "source": [
    "# Colun or semicolun ?\n",
    "\n",
    "In this notebook, you are going to implement a logistic regression algrorithm.\n",
    "- 1st, you'll build a dataset\n",
    "- 2nd, you'll you are going do define a model\n",
    "- 3rd, a backpropagation method\n",
    "- 4th, a gradient descent method\n"
   ]
  },
  {
   "cell_type": "markdown",
   "metadata": {},
   "source": [
    "---\n",
    "### Dataset\n",
    "\n",
    "We build a dataset to illustrate our purpose.\n",
    "\n",
    "The dataset we build is supposed to help us converting a paper scan into a ASCII string. Lets imagine that, when a paper is scaned, we can detect, with high confidence that we are over a colun or a semicolun. Our objective here is to detect wether it's one or the other.\n",
    "\n",
    "Therefore, our algorithm is fed with a vector $x_i \\in [0,1]^5$ which represent the intensity of the pen stroke writting on the paper.\n",
    "\n",
    "Here below, you have an example of 'perfect' strokes for $x_1$ an example of colun, and $x_2$ an example of semicolun. "
   ]
  },
  {
   "cell_type": "code",
   "execution_count": 39,
   "metadata": {},
   "outputs": [
    {
     "data": {
      "image/png": "[encoded data removed]",
      "text/plain": [
       "<matplotlib.figure.Figure at 0x7f0c13c75ad0>"
      ]
     },
     "metadata": {},
     "output_type": "display_data"
    }
   ],
   "source": [
    "import matplotlib.pyplot as plt\n",
    "import numpy as np\n",
    "\n",
    "x_1 = np.array([0,1,0,1,0])\n",
    "x_2 = np.array([0,1,0,1,1])\n",
    "\n",
    "def to_img(vec):\n",
    "    matrix = np.ones((5, 3))\n",
    "    matrix[:, 1] = 1-vec\n",
    "    return matrix\n",
    "\n",
    "fig, axs = plt.subplots(1,2)\n",
    "axs[0].imshow(to_img(x_1), cmap='gray')\n",
    "axs[1].imshow(to_img(x_2), cmap='gray')\n",
    "plt.show()"
   ]
  },
  {
   "cell_type": "markdown",
   "metadata": {},
   "source": [
    "Whenever a sample $x_i$ belongs to the class *colun*, we'll label it with $y_i=0$.  \n",
    "Likewise, whenever a sample $x_i$ belongs to the class *semicolun*, we'll label it with $y_i=1$.  "
   ]
  },
  {
   "cell_type": "code",
   "execution_count": 40,
   "metadata": {
    "collapsed": true
   },
   "outputs": [],
   "source": [
    "y_1 = 0\n",
    "y_2 = 1"
   ]
  },
  {
   "cell_type": "markdown",
   "metadata": {},
   "source": [
    "### Dataset generation"
   ]
  },
  {
   "cell_type": "code",
   "execution_count": 41,
   "metadata": {},
   "outputs": [
    {
     "data": {
      "image/png": "[encoded data removed]",
      "text/plain": [
       "<matplotlib.figure.Figure at 0x7f0c132dcbd0>"
      ]
     },
     "metadata": {},
     "output_type": "display_data"
    }
   ],
   "source": [
    "X = np.array([\n",
    "    [.0, 1., 0., 1., 0.],\n",
    "    [.0, .9, 0., .9, 0.],\n",
    "    [.2, .8, 0., .8, .2],\n",
    "    [.0, 1., 0., 1., 1.],\n",
    "    [.0, 1., 0., .5, .5],\n",
    "    [.2, .8, 0., .7, .7]])\n",
    "y = np.array([0,0,0,1,1,1])\n",
    "\n",
    "fig, axs = plt.subplots(1,6)\n",
    "for i in range(len(X)):\n",
    "    axs[i].imshow(to_img(X[i]), cmap='gray')\n",
    "plt.show()"
   ]
  },
  {
   "cell_type": "markdown",
   "metadata": {},
   "source": [
    "---\n",
    "### Define a logistic regression model\n",
    "\n",
    "(You may want to read this : http://cs229.stanford.edu/notes/cs229-notes1.pdf).\n",
    "\n",
    "You're going to build a model which outputs a prediction value $p_i$ given an input $x_i$. This prediction $p_i$ will reflect the propability that your input $x_i$ belongs to class 1.\n",
    "$$\n",
    "\\begin{align}\n",
    "p_i &= P(Y=1 | W, x_i) \\\\\n",
    "p(x_i,W) &= P(Y=1 | W, x_i)\n",
    "\\end{align}\n",
    "$$\n",
    "\n",
    "As $p_i$ is a probability, it must be in [0,1].\n",
    "\n",
    "The model we'll consider perform a weighted sum of its input:\n",
    "- Weighted sum : $ s = (W^t \\cdot X + b) $\n",
    "\n",
    "And then squizes the values between 0 and 1 (which is our prediction value):\n",
    "- prediction : $ p(s) = \\frac{1}{1 + e^{-s}} $"
   ]
  },
  {
   "cell_type": "code",
   "execution_count": 42,
   "metadata": {
    "collapsed": true
   },
   "outputs": [],
   "source": [
    "# Write the code ^^"
   ]
  },
  {
   "cell_type": "markdown",
   "metadata": {},
   "source": [
    "---\n",
    "### Compare these predicted values ($p_i$) with the true output ($y_i$)\n",
    "\n",
    "Overall, we would like to maximize the likelihood that we are right at predicting a label.  \n",
    "\n",
    "$$\n",
    "\\begin{align}\n",
    "\\max \\text{likelihood} &= \\text{argmax}_w \\Pi_i P(Y | W, x_i) \\\\\n",
    "&= \\text{argmax}_w \\Pi_i \\big( P(Y=y_i | W, x_i) \\big) \\\\\n",
    "&= \\text{argmax}_w \\Pi_i \\big( P(Y=1 | W, x_i)^{y_i} \\cdot P(Y=0 | W, x_i)^{1-y_i} \\big) \\\\\n",
    "&= \\text{argmax}_w \\Pi_i \\big( P(Y=1 | W, x_i)^{y_i} \\cdot 1-P(Y=1 | W, x_i)^{1-y_i}\\big) \\\\\n",
    "&= \\text{argmax}_w \\Pi_i \\big( p_i^{y_i} \\cdot 1-p_i^{1-y_i}\\big) \\\\\n",
    "&= \\text{argmax}_w \\sum_i \\big( y_i \\ln(p_i) + (1-y_i) \\ln(1-p_i) \\big) \\\\\n",
    "&= \\text{argmin}_w - \\sum_i \\big( y_i \\ln(p_i) + (1-y_i) \\ln(1-p_i) \\big) \\\\\n",
    "\\end{align}\n",
    "$$\n",
    "And this term is going to be our **loss** that we want to reduce:\n",
    "$$\n",
    "L(x_i, W, y_i) = - \\sum_i \\big( y_i \\ln(p_i) + (1-y_i) \\ln(1-p_i) \\big)\n",
    "$$\n",
    "This is how you compare the prediction you made ($p_i$) to the true output you expected ($y_i$).\n",
    "\n",
    "#### In our example :\n",
    "In means of colun and semicolun : remember $x_0$, it's a colun, therefore it's label is $y_0=0$.  \n",
    "If your classifier is good you'ld expect it to predict it's a semicolun, hense have $p_i = $*\"Something small like 0.1\"*. \n",
    "\n",
    "The error for this one sample is going to be:\n",
    "$$\n",
    "\\begin{align}\n",
    "L(X, W, y) &= - \\sum_i \\big( y_i \\ln(p_i) + (1-y_i) \\ln(1-p_i) \\big) \\\\\n",
    "&= y_0 \\ln(p_0) + (1-y_0) \\ln(1-p_0) \\\\\n",
    "&= - 0 \\ln(.9) + (1-0) \\ln(1-.9) \\\\\n",
    "&= - \\ln(.1)\n",
    "\\end{align}\n",
    "$$"
   ]
  },
  {
   "cell_type": "markdown",
   "metadata": {},
   "source": [
    "### Find the minimum of the Loss function\n",
    "\n",
    "To reduce the error, we have to find the minimum of $L(x, W, y)$.  \n",
    "Hense, we derive it with respect to $W$ and find the 'zeros'."
   ]
  },
  {
   "cell_type": "code",
   "execution_count": 43,
   "metadata": {
    "collapsed": true
   },
   "outputs": [],
   "source": [
    "# Pen, paper, and your code ^^"
   ]
  },
  {
   "cell_type": "markdown",
   "metadata": {},
   "source": [
    "### Apply Stochastic gradient descent to solve this\n",
    "\n",
    "We are going to solve this with Stochastic Gradient Descent (SGD), meaning that we start with some values for $W$ and update this values such that our loss value disminushes.\n",
    "$$\n",
    "W = W + \\alpha \\frac{\\delta L(x, W, y)}{\\delta W}\n",
    "$$"
   ]
  },
  {
   "cell_type": "code",
   "execution_count": null,
   "metadata": {
    "collapsed": true
   },
   "outputs": [],
   "source": [
    "# Code"
   ]
  }
 ],
 "metadata": {
  "kernelspec": {
   "display_name": "Python 2",
   "language": "python",
   "name": "python2"
  },
  "language_info": {
   "codemirror_mode": {
    "name": "ipython",
    "version": 2
   },
   "file_extension": ".py",
   "mimetype": "text/x-python",
   "name": "python",
   "nbconvert_exporter": "python",
   "pygments_lexer": "ipython2",
   "version": "2.7.12"
  }
 },
 "nbformat": 4,
 "nbformat_minor": 2
}
