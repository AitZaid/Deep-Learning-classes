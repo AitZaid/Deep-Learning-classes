{
 "cells": [
  {
   "cell_type": "markdown",
   "metadata": {},
   "source": [
    "# This notebooks aims at visualizing the content of the MNIST dataset\n",
    "As a fist step, we use keras to download the dataset.\n",
    "\n",
    "Then we print the shape of it."
   ]
  },
  {
   "cell_type": "code",
   "execution_count": 1,
   "metadata": {},
   "outputs": [
    {
     "name": "stderr",
     "output_type": "stream",
     "text": [
      "Using TensorFlow backend.\n"
     ]
    },
    {
     "name": "stdout",
     "output_type": "stream",
     "text": [
      "input of training set has shape (60000, 28, 28) and output has shape (60000,)\n",
      "input of testing set has shape (10000, 28, 28) and output has shape (10000,)\n"
     ]
    }
   ],
   "source": [
    "import keras\n",
    "from keras.datasets import mnist\n",
    "\n",
    "(x_train, y_train), (x_test, y_test) = mnist.load_data()\n",
    "print \"input of training set has shape {} and output has shape {}\".format(x_train.shape, y_train.shape)\n",
    "print \"input of testing set has shape {} and output has shape {}\".format(x_test.shape, y_test.shape)"
   ]
  },
  {
   "cell_type": "markdown",
   "metadata": {},
   "source": [
    "In case it needs disambiguation, we plot some arrays corresponding to the X values and some of the Y values:"
   ]
  },
  {
   "cell_type": "code",
   "execution_count": 2,
   "metadata": {},
   "outputs": [
    {
     "name": "stdout",
     "output_type": "stream",
     "text": [
      "The first 15 <X_train> values:\n"
     ]
    },
    {
     "data": {
      "image/png": "[encoded data removed]",
      "text/plain": [
       "<matplotlib.figure.Figure at 0x7f7c20d92d10>"
      ]
     },
     "metadata": {},
     "output_type": "display_data"
    },
    {
     "name": "stdout",
     "output_type": "stream",
     "text": [
      "The first 15 <y_test> values:\n",
      "[5 0 4 1 9 2 1 3 1 4 3 5 3 6 1]\n"
     ]
    }
   ],
   "source": [
    "import matplotlib.pyplot as plt\n",
    "import numpy as np\n",
    "%matplotlib inline\n",
    "\n",
    "print \"The first 15 <X_train> values:\"\n",
    "fig, axs = plt.subplots(3,5)\n",
    "axs = [b for a in axs for b in a]\n",
    "for i in range(3*5):\n",
    "    axs[i].imshow(x_train[i], cmap='gray')\n",
    "    axs[i].axis('off')\n",
    "plt.show()\n",
    "\n",
    "print \"The first 15 <y_test> values:\"\n",
    "print y_train[: 3 * 5]"
   ]
  },
  {
   "cell_type": "markdown",
   "metadata": {},
   "source": [
    "---\n",
    "Now, we are sure that X_train contains grey-scaled images and Y_train the digit corresponding to its X_train image.\n",
    "\n",
    "### Data distribution\n",
    "Next step consists in knowing how is our data distibuted"
   ]
  },
  {
   "cell_type": "code",
   "execution_count": 3,
   "metadata": {},
   "outputs": [
    {
     "data": {
      "image/png": "[encoded data removed]",
      "text/plain": [
       "<matplotlib.figure.Figure at 0x7f7c1bad27d0>"
      ]
     },
     "metadata": {},
     "output_type": "display_data"
    },
    {
     "name": "stdout",
     "output_type": "stream",
     "text": [
      "Standard deviation of x_train is 78.5674899834 and mean is 33.3184214498\n",
      "Standard deviation of x_test is 79.1724632223 and mean is 33.7912244898\n"
     ]
    }
   ],
   "source": [
    "fig, axs = plt.subplots(2,2)\n",
    "axs[0][0].hist(x_train.reshape([-1]), bins = 25)\n",
    "axs[0][1].hist(y_train.reshape([-1]), bins = 10)\n",
    "axs[1][0].hist(x_test.reshape([-1]), bins = 25)\n",
    "axs[1][1].hist(y_test.reshape([-1]), bins = 10)\n",
    "plt.show()\n",
    "\n",
    "print \"Standard deviation of x_train is {} and mean is {}\".format(\n",
    "    x_train.std(), x_train.mean())\n",
    "print \"Standard deviation of x_test is {} and mean is {}\".format(\n",
    "    x_test.std(), x_test.mean())"
   ]
  },
  {
   "cell_type": "markdown",
   "metadata": {},
   "source": [
    "Left plots tells us that the Xs are ranging in $[0, 255]$ and that most of the pixels are around zero.\n",
    "\n",
    "Right plots shows the distribution of the 10 labels MNIST has. \n",
    "In both cases (train and test) we learn that \"5\" is the least represented digit and \"1\" is the most represented one."
   ]
  },
  {
   "cell_type": "markdown",
   "metadata": {},
   "source": [
    "### Data normalization\n",
    "As we'll see, we rather normlize and center this data such that X_train has a standard deviation of one and a mean of zero"
   ]
  },
  {
   "cell_type": "code",
   "execution_count": 4,
   "metadata": {},
   "outputs": [
    {
     "data": {
      "image/png": "[encoded data removed]",
      "text/plain": [
       "<matplotlib.figure.Figure at 0x7f7c256d6190>"
      ]
     },
     "metadata": {},
     "output_type": "display_data"
    },
    {
     "name": "stdout",
     "output_type": "stream",
     "text": [
      "Standard deviation of x_train is 1.0 and mean is -3.06463849007e-17\n",
      "Standard deviation of x_test is 1.00770004539 and mean is 0.00601779489285\n"
     ]
    }
   ],
   "source": [
    "# Normalize the MNIST data\n",
    "def data_preprocessing(data, std, mean):\n",
    "    data = data - mean\n",
    "    data = data / std\n",
    "    return data\n",
    "\n",
    "std = x_train.std()\n",
    "mean = x_train.mean()\n",
    "x_train = data_preprocessing(x_train, std, mean)\n",
    "x_test = data_preprocessing(x_test, std, mean)\n",
    "\n",
    "# Show the results\n",
    "fig, axs = plt.subplots(2,1)\n",
    "axs[0].hist(x_train.reshape([-1]), bins = 25)\n",
    "axs[1].hist(x_test.reshape([-1]), bins = 25)\n",
    "plt.show()\n",
    "\n",
    "print \"Standard deviation of x_train is {} and mean is {}\".format(\n",
    "    x_train.std(), x_train.mean())\n",
    "print \"Standard deviation of x_test is {} and mean is {}\".format(\n",
    "    x_test.std(), x_test.mean())"
   ]
  }
 ],
 "metadata": {
  "kernelspec": {
   "display_name": "Python 2",
   "language": "python",
   "name": "python2"
  },
  "language_info": {
   "codemirror_mode": {
    "name": "ipython",
    "version": 2
   },
   "file_extension": ".py",
   "mimetype": "text/x-python",
   "name": "python",
   "nbconvert_exporter": "python",
   "pygments_lexer": "ipython2",
   "version": "2.7.6"
  }
 },
 "nbformat": 4,
 "nbformat_minor": 2
}
