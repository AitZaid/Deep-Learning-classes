{
 "cells": [
  {
   "cell_type": "markdown",
   "metadata": {},
   "source": [
    "# What is classification ?\n",
    "\n",
    "- Import the data you'll be using\n",
    "- Visualize/Analyze your dataset\n",
    "- Perform classification on it"
   ]
  },
  {
   "cell_type": "markdown",
   "metadata": {},
   "source": [
    "### 1.a -  We use the mnist dataset"
   ]
  },
  {
   "cell_type": "code",
   "execution_count": 1,
   "metadata": {},
   "outputs": [
    {
     "name": "stderr",
     "output_type": "stream",
     "text": [
      "Using TensorFlow backend.\n"
     ]
    },
    {
     "name": "stdout",
     "output_type": "stream",
     "text": [
      "input of training set has shape (60000, 28, 28) and output has shape (60000,)\n",
      "input of testing set has shape (10000, 28, 28) and output has shape (10000,)\n"
     ]
    }
   ],
   "source": [
    "import keras\n",
    "from keras.datasets import mnist\n",
    "\n",
    "(x_train, y_train), (x_test, y_test) = mnist.load_data()\n",
    "print \"input of training set has shape {} and output has shape {}\".format(x_train.shape, y_train.shape)\n",
    "print \"input of testing set has shape {} and output has shape {}\".format(x_test.shape, y_test.shape)"
   ]
  },
  {
   "cell_type": "markdown",
   "metadata": {},
   "source": [
    "### 1.b - How does Mnist look like ?"
   ]
  },
  {
   "cell_type": "code",
   "execution_count": 2,
   "metadata": {},
   "outputs": [
    {
     "data": {
      "image/png": "[encoded data removed]",
      "text/plain": [
       "<matplotlib.figure.Figure at 0x7fce75af9850>"
      ]
     },
     "metadata": {},
     "output_type": "display_data"
    }
   ],
   "source": [
    "import matplotlib.pyplot as plt\n",
    "import numpy as np\n",
    "%matplotlib inline\n",
    "\n",
    "fig, axs = plt.subplots(2,5)\n",
    "axs = [b for a in axs for b in a]\n",
    "for i in range(2*5):\n",
    "    axs[i].imshow(x_train[i], cmap='gray')\n",
    "    axs[i].axis('off')\n",
    "plt.show()"
   ]
  },
  {
   "cell_type": "markdown",
   "metadata": {},
   "source": [
    "### 1.c - Distribution of the Mnist dataset"
   ]
  },
  {
   "cell_type": "code",
   "execution_count": 3,
   "metadata": {},
   "outputs": [
    {
     "data": {
      "image/png": "[encoded data removed]",
      "text/plain": [
       "<matplotlib.figure.Figure at 0x7fce7532b910>"
      ]
     },
     "metadata": {},
     "output_type": "display_data"
    }
   ],
   "source": [
    "fig, axs = plt.subplots(2,2)\n",
    "axs[0][0].hist(x_train.reshape([-1]), bins = 25)\n",
    "axs[0][1].hist(y_train.reshape([-1]), bins = 10)\n",
    "axs[1][0].hist(x_test.reshape([-1]), bins = 25)\n",
    "axs[1][1].hist(y_test.reshape([-1]), bins = 10)\n",
    "plt.show()"
   ]
  },
  {
   "cell_type": "markdown",
   "metadata": {},
   "source": [
    "### 1.c - Normalize and change the encoding of the data"
   ]
  },
  {
   "cell_type": "code",
   "execution_count": 4,
   "metadata": {
    "collapsed": true
   },
   "outputs": [],
   "source": [
    "# Normalize the MNIST data\n",
    "x_train = x_train/255.\n",
    "x_test = x_test/255.\n",
    "\n",
    "# Change the one-hot-encoding\n",
    "y_train = keras.utils.to_categorical(y_train, 10)\n",
    "y_test = keras.utils.to_categorical(y_test, 10)"
   ]
  },
  {
   "cell_type": "markdown",
   "metadata": {},
   "source": [
    "---\n",
    "### 2 - Classify our data\n",
    "\n",
    "We are going to choose in between 3 classifier to classify our data:\n",
    "\n",
    "- SVM\n",
    "- Nearest Neighboor\n",
    "- Logistic Regression"
   ]
  },
  {
   "cell_type": "code",
   "execution_count": 5,
   "metadata": {},
   "outputs": [
    {
     "data": {
      "text/plain": [
       "<matplotlib.image.AxesImage at 0x7fce7a3f93d0>"
      ]
     },
     "execution_count": 5,
     "metadata": {},
     "output_type": "execute_result"
    },
    {
     "data": {
      "image/png": "[encoded data removed]",
      "text/plain": [
       "<matplotlib.figure.Figure at 0x7fce70a10e90>"
      ]
     },
     "metadata": {},
     "output_type": "display_data"
    }
   ],
   "source": [
    "sample = x_test[0]\n",
    "plt.imshow(sample)"
   ]
  },
  {
   "cell_type": "markdown",
   "metadata": {},
   "source": [
    "### 2.a - SVM\n",
    "\n",
    "https://www.youtube.com/watch?v=_PwhiWxHK8o"
   ]
  },
  {
   "cell_type": "code",
   "execution_count": 6,
   "metadata": {},
   "outputs": [
    {
     "name": "stderr",
     "output_type": "stream",
     "text": [
      "/usr/local/lib/python2.7/dist-packages/skimage/transform/_warps.py:84: UserWarning: The default mode, 'constant', will be changed to 'reflect' in skimage 0.15.\n",
      "  warn(\"The default mode, 'constant', will be changed to 'reflect' in \"\n"
     ]
    },
    {
     "name": "stdout",
     "output_type": "stream",
     "text": [
      "With SVM, our sample is closest to class 7\n"
     ]
    }
   ],
   "source": [
    "from sklearn import svm\n",
    "from skimage.transform import resize\n",
    "\n",
    "# 24*24 images'll be too big, we downsample them to 8*8\n",
    "def to_svm_image(img):\n",
    "    img = resize(img, [8,8])\n",
    "    return img.reshape([-1])\n",
    "\n",
    "x_train_svm = map(to_svm_image, x_train)\n",
    "x_train_svm = np.array(x_train_svm)\n",
    "\n",
    "# Train the classifier here\n",
    "clf = svm.SVC(gamma=0.001, C=100.)\n",
    "clf.fit(x_train_svm, y_train.argmax(axis=1))\n",
    "\n",
    "# Test the classifier\n",
    "sample = to_svm_image(x_test[0])\n",
    "sample = sample.reshape([1,-1])\n",
    "prediction = clf.predict(sample)\n",
    "\n",
    "print \"With SVM, our sample is closest to class {}\".format(prediction[0])"
   ]
  },
  {
   "cell_type": "markdown",
   "metadata": {},
   "source": [
    "###  2.b - Nearest neighboor\n",
    "\n",
    "Browse throught the entire dataset which is the closest \"neighboor\" to our current example."
   ]
  },
  {
   "cell_type": "code",
   "execution_count": 7,
   "metadata": {},
   "outputs": [
    {
     "name": "stdout",
     "output_type": "stream",
     "text": [
      "With NN, our sample is closest to class 7\n"
     ]
    }
   ],
   "source": [
    "sample = x_test[0]\n",
    "\n",
    "def distance(tensor1, tensor2, norm='l1'):\n",
    "    if norm == \"l1\":\n",
    "        dist = np.abs(tensor1 - tensor2)\n",
    "    if norm == \"l2\":\n",
    "        dist = tensor1 ** 2 - tensor2 ** 2\n",
    "    dist = np.sum(dist)\n",
    "    return dist\n",
    "\n",
    "def predict(sample, norm='l1'):\n",
    "    min_dist = 100000000000\n",
    "    min_idx = -1\n",
    "    for idx, im in enumerate(x_train):\n",
    "        if distance(sample, im) < min_dist:\n",
    "            min_dist = distance(sample, im, norm)\n",
    "            min_idx = idx\n",
    "    y_pred = y_train[min_idx]     \n",
    "    return y_pred\n",
    "\n",
    "y = predict(sample, 'l1')\n",
    "print \"With NN, our sample is closest to class {}\".format(y.argmax())"
   ]
  },
  {
   "cell_type": "markdown",
   "metadata": {},
   "source": [
    "### 2.c - Softmax regression \n",
    "\n",
    "$ y = \\sigma(W^T \\cdot X + b) $"
   ]
  },
  {
   "cell_type": "code",
   "execution_count": 8,
   "metadata": {},
   "outputs": [
    {
     "name": "stdout",
     "output_type": "stream",
     "text": [
      "With Softmax regression, our sample is closest to class 7\n"
     ]
    }
   ],
   "source": [
    "from sklearn import linear_model, datasets\n",
    "from sklearn.linear_model import LogisticRegression\n",
    "from sklearn.linear_model import SGDClassifier\n",
    "\n",
    "# Train the classifier here\n",
    "clf_sgd = SGDClassifier()\n",
    "clf_sgd.fit(x_train_svm, y_train.argmax(axis=1))\n",
    "\n",
    "# Test the classifier\n",
    "sample = to_svm_image(x_test[0])\n",
    "sample = sample.reshape([1,-1])\n",
    "prediction = clf.predict(sample)\n",
    "\n",
    "print \"With Softmax regression, our sample is closest to class {}\".format(prediction[0])"
   ]
  }
 ],
 "metadata": {
  "kernelspec": {
   "display_name": "Python 2",
   "language": "python",
   "name": "python2"
  },
  "language_info": {
   "codemirror_mode": {
    "name": "ipython",
    "version": 2
   },
   "file_extension": ".py",
   "mimetype": "text/x-python",
   "name": "python",
   "nbconvert_exporter": "python",
   "pygments_lexer": "ipython2",
   "version": "2.7.6"
  }
 },
 "nbformat": 4,
 "nbformat_minor": 2
}
