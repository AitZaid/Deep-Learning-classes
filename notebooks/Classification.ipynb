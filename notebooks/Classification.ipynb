{
 "cells": [
  {
   "cell_type": "markdown",
   "metadata": {},
   "source": [
    "# What is classification ?\n",
    "\n",
    "- Import the data you'll be using\n",
    "- Visualize/Analyze your dataset\n",
    "- Perform classification on it"
   ]
  },
  {
   "cell_type": "markdown",
   "metadata": {},
   "source": [
    "### 1.a -  We use the mnist dataset"
   ]
  },
  {
   "cell_type": "code",
   "execution_count": 36,
   "metadata": {},
   "outputs": [
    {
     "name": "stdout",
     "output_type": "stream",
     "text": [
      "input of training set has shape (60000, 28, 28) and output has shape (60000,)\n",
      "input of testing set has shape (10000, 28, 28) and output has shape (10000,)\n"
     ]
    }
   ],
   "source": [
    "import keras\n",
    "from keras.datasets import mnist\n",
    "\n",
    "(x_train, y_train), (x_test, y_test) = mnist.load_data()\n",
    "print \"input of training set has shape {} and output has shape {}\".format(x_train.shape, y_train.shape)\n",
    "print \"input of testing set has shape {} and output has shape {}\".format(x_test.shape, y_test.shape)"
   ]
  },
  {
   "cell_type": "markdown",
   "metadata": {},
   "source": [
    "### 1.b - How does Mnist look like ?"
   ]
  },
  {
   "cell_type": "code",
   "execution_count": 37,
   "metadata": {},
   "outputs": [
    {
     "data": {
      "image/png": "[encoded data removed]",
      "text/plain": [
       "<matplotlib.figure.Figure at 0x7f5adf4d8e90>"
      ]
     },
     "metadata": {},
     "output_type": "display_data"
    }
   ],
   "source": [
    "import matplotlib.pyplot as plt\n",
    "import numpy as np\n",
    "%matplotlib inline\n",
    "\n",
    "fig, axs = plt.subplots(2,5)\n",
    "axs = [b for a in axs for b in a]\n",
    "for i in range(2*5):\n",
    "    axs[i].imshow(x_train[i], cmap='gray')\n",
    "    axs[i].axis('off')\n",
    "plt.show()"
   ]
  },
  {
   "cell_type": "markdown",
   "metadata": {},
   "source": [
    "### 1.c - Distribution of the Mnist dataset"
   ]
  },
  {
   "cell_type": "code",
   "execution_count": 38,
   "metadata": {},
   "outputs": [
    {
     "data": {
      "image/png": "[encoded data removed]",
      "text/plain": [
       "<matplotlib.figure.Figure at 0x7f5aafb0f510>"
      ]
     },
     "metadata": {},
     "output_type": "display_data"
    }
   ],
   "source": [
    "fig, axs = plt.subplots(2,2)\n",
    "axs[0][0].hist(x_train.reshape([-1]), bins = 25)\n",
    "axs[0][1].hist(y_train.reshape([-1]), bins = 10)\n",
    "axs[1][0].hist(x_test.reshape([-1]), bins = 25)\n",
    "axs[1][1].hist(y_test.reshape([-1]), bins = 10)\n",
    "plt.show()"
   ]
  },
  {
   "cell_type": "markdown",
   "metadata": {},
   "source": [
    "### 1.c - Normalize and change the encoding of the data"
   ]
  },
  {
   "cell_type": "code",
   "execution_count": 39,
   "metadata": {
    "collapsed": true
   },
   "outputs": [],
   "source": [
    "# Normalize the MNIST data\n",
    "x_train = x_train/255.\n",
    "x_test = x_test/255.\n",
    "\n",
    "# Change the one-hot-encoding\n",
    "y_train = keras.utils.to_categorical(y_train, 10)\n",
    "y_test = keras.utils.to_categorical(y_test, 10)"
   ]
  },
  {
   "cell_type": "markdown",
   "metadata": {},
   "source": [
    "---\n",
    "### 2 - Classify our data\n",
    "\n",
    "We are going to choose in between 3 classifier to classify our data:\n",
    "\n",
    "- SVM\n",
    "- Nearest Neighboor\n",
    "- Logistic Regression"
   ]
  },
  {
   "cell_type": "markdown",
   "metadata": {},
   "source": [
    "### 2.a - SVM\n",
    "\n",
    "https://www.youtube.com/watch?v=_PwhiWxHK8o"
   ]
  },
  {
   "cell_type": "code",
   "execution_count": 40,
   "metadata": {},
   "outputs": [
    {
     "data": {
      "text/plain": [
       "array([7])"
      ]
     },
     "execution_count": 40,
     "metadata": {},
     "output_type": "execute_result"
    }
   ],
   "source": [
    "from sklearn import svm\n",
    "from skimage.transform import resize\n",
    "\n",
    "# 24*24 images'll be too big, we downsample them to 8*8\n",
    "def to_svm_image(img):\n",
    "    img = resize(img, [8,8])\n",
    "    return img.reshape([-1])\n",
    "\n",
    "x_train_svm = map(to_svm_image, x_train)\n",
    "x_train_svm = np.array(x_train_svm)\n",
    "\n",
    "# Train the classifier here\n",
    "clf = svm.SVC(gamma=0.001, C=100.)\n",
    "clf.fit(x_train_svm, y_train.argmax(axis=1))\n",
    "\n",
    "# Test the classifier\n",
    "sample = to_svm_image(x_test[0])\n",
    "sample = sample.reshape([1,-1])\n",
    "clf.predict(sample)"
   ]
  },
  {
   "cell_type": "markdown",
   "metadata": {},
   "source": [
    "###  2.b - Nearest neighboor\n",
    "\n",
    "Browse throught the entire dataset which is the closest \"neighboor\" to our current example."
   ]
  },
  {
   "cell_type": "code",
   "execution_count": 17,
   "metadata": {},
   "outputs": [
    {
     "name": "stderr",
     "output_type": "stream",
     "text": [
      "/usr/local/lib/python2.7/dist-packages/ipykernel/__main__.py:6: FutureWarning: elementwise comparison failed; returning scalar instead, but in the future will perform elementwise comparison\n"
     ]
    },
    {
     "name": "stdout",
     "output_type": "stream",
     "text": [
      "sample is closest to class [ 0.  0.  0.  0.  0.  0.  0.  1.  0.  0.]\n"
     ]
    }
   ],
   "source": [
    "sample = x_test[0]\n",
    "\n",
    "def distance(tensor1, tensor2, norm='l1'):\n",
    "    if norm == \"l1\":\n",
    "        dist = np.abs(tensor1 - tensor2)\n",
    "    if norm == \"l2\":\n",
    "        dist = tensor1 ** 2 - tensor2 ** 2\n",
    "    dist = np.sum(dist)\n",
    "    return dist\n",
    "\n",
    "def predict(sample, norm='l1'):\n",
    "    min_dist = 100000000000\n",
    "    min_idx = -1\n",
    "    for idx, im in enumerate(x_train):\n",
    "        if dist(sample, im) < min_dist:\n",
    "            min_dist = distance(sample, im, norm)\n",
    "            min_idx = idx\n",
    "    y_pred = y_train[min_idx]     \n",
    "    return y_pred\n",
    "\n",
    "y = predict(sample, 'l1')\n",
    "print \"sample is closest to class {}\".format(y)\n"
   ]
  },
  {
   "cell_type": "markdown",
   "metadata": {},
   "source": [
    "### 2.c - Logistic regression\n",
    "\n",
    "$ y = W^T \\cdot X $"
   ]
  },
  {
   "cell_type": "code",
   "execution_count": 44,
   "metadata": {},
   "outputs": [
    {
     "name": "stdout",
     "output_type": "stream",
     "text": [
      "(60000, 28, 28)\n"
     ]
    },
    {
     "data": {
      "text/plain": [
       "array([7])"
      ]
     },
     "execution_count": 44,
     "metadata": {},
     "output_type": "execute_result"
    }
   ],
   "source": [
    "from sklearn import linear_model, datasetsœ\n",
    "from sklearn.linear_model import LogisticRegression\n",
    "from sklearn.linear_model import SGDClassifier\n",
    "\n",
    "print x_train.shape\n",
    "\n",
    "# Train the classifier here\n",
    "clf_sgd = SGDClassifier()\n",
    "clf_sgd.fit(x_train_svm, y_train.argmax(axis=1))\n",
    "\n",
    "# Test the classifier\n",
    "sample = to_svm_image(x_test[0])\n",
    "sample = sample.reshape([1,-1])\n",
    "clf.predict(sample)"
   ]
  }
 ],
 "metadata": {
  "kernelspec": {
   "display_name": "Python 2",
   "language": "python",
   "name": "python2"
  },
  "language_info": {
   "codemirror_mode": {
    "name": "ipython",
    "version": 2
   },
   "file_extension": ".py",
   "mimetype": "text/x-python",
   "name": "python",
   "nbconvert_exporter": "python",
   "pygments_lexer": "ipython2",
   "version": "2.7.6"
  }
 },
 "nbformat": 4,
 "nbformat_minor": 2
}
