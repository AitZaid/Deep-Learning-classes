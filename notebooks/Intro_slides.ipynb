{
 "cells": [
  {
   "cell_type": "markdown",
   "metadata": {
    "slideshow": {
     "slide_type": "slide"
    }
   },
   "source": [
    "#  Introduction to DL\n",
    "\n",
    "The fields of Deep Learning and computer vision exists for quite some times.\n",
    "- 1963: Larry Roberts creates the *block world*\n",
    "- 1966: MIT, a guy proposes to solve vision during a summer school... LOL\n",
    "- 1970: David Marr writes a book all about vision and how humans detect edges to combine them into objects\n",
    "- 1979: The *generalized cylinder model* comes to computer vision\n",
    "- 1999: SIFT features to recognize objects\n",
    "- 2001: Face detector make its way in real time computer vision \n",
    "- 2009: Histogram of oriented gradients\n",
    "- 2005: HOG get to be known\n",
    "- 2006: Alexnet beats everyone else in Imagenet !\n",
    "- Since then: Deep learning is the king in computer vision"
   ]
  },
  {
   "cell_type": "markdown",
   "metadata": {
    "slideshow": {
     "slide_type": "slide"
    }
   },
   "source": [
    "# Image What ?? ImageNet :)\n",
    "\n",
    "![ImageNet](http://karpathy.github.io/assets/cnntsne.jpeg)"
   ]
  },
  {
   "cell_type": "markdown",
   "metadata": {
    "slideshow": {
     "slide_type": "subslide"
    }
   },
   "source": [
    "### AlexNet's results in the classification task\n",
    "![Results](https://image.slidesharecdn.com/dlcvd2l4imagenet-160802094728/95/deep-learning-for-computer-vision-imagenet-challenge-upc-2016-4-638.jpg?cb=1470131387)"
   ]
  },
  {
   "cell_type": "markdown",
   "metadata": {
    "slideshow": {
     "slide_type": "subslide"
    }
   },
   "source": [
    "### Detection in imageNet\n",
    "![ImageNet Detection](https://kaggle2.blob.core.windows.net/competitions/kaggle/3333/media/image_detection.png)"
   ]
  },
  {
   "cell_type": "markdown",
   "metadata": {
    "slideshow": {
     "slide_type": "subslide"
    }
   },
   "source": [
    "### Yolo's results in the detection task\n",
    "[![Yolo](http://img.youtube.com/vi/VOC3huqHrss/0.jpg)](http://www.youtube.com/watch?v=VOC3huqHrss \"Yolo\")\n"
   ]
  },
  {
   "cell_type": "markdown",
   "metadata": {
    "slideshow": {
     "slide_type": "slide"
    }
   },
   "source": [
    "# Is it just about Classifiying images ? \n",
    "\n",
    "Not at all, yet, it's easier with images...\n",
    "\n"
   ]
  },
  {
   "cell_type": "markdown",
   "metadata": {
    "slideshow": {
     "slide_type": "subslide"
    }
   },
   "source": [
    "### Audio Generation\n",
    "- [Audio1](https://storage.googleapis.com/deepmind-media/pixie/making-music/sample_6.wav)\n",
    "- [Audio2](https://storage.googleapis.com/deepmind-media/pixie/making-music/sample_1.wav)"
   ]
  },
  {
   "cell_type": "markdown",
   "metadata": {
    "slideshow": {
     "slide_type": "subslide"
    }
   },
   "source": [
    "### Image generation from picture\n",
    "\n",
    "https://turbo.deepart.io/ "
   ]
  },
  {
   "cell_type": "markdown",
   "metadata": {
    "slideshow": {
     "slide_type": "subslide"
    }
   },
   "source": [
    "### Image Generation from random noise\n",
    "[![GANs](http://img.youtube.com/vi/XOxxPcy5Gr4/0.jpg)](http://www.youtube.com/watch?v=XOxxPcy5Gr4 \"GANs\")"
   ]
  },
  {
   "cell_type": "markdown",
   "metadata": {
    "slideshow": {
     "slide_type": "subslide"
    }
   },
   "source": [
    "### Image generation from sketching\n",
    "\n",
    "https://www.autodraw.com/"
   ]
  },
  {
   "cell_type": "markdown",
   "metadata": {
    "slideshow": {
     "slide_type": "slide"
    }
   },
   "source": [
    "# Amazing! When are we doing this ??\n",
    "\n",
    "When you have a good computer \n",
    "![confused](https://media3.giphy.com/media/sauYjWmJJ18xW/200.webp#4-grid1)"
   ]
  },
  {
   "cell_type": "markdown",
   "metadata": {
    "slideshow": {
     "slide_type": "subslide"
    }
   },
   "source": [
    "### Compute power - GPU\n",
    "You need a lot of compute power to reach these results...\n",
    "![](https://i2.wp.com/timdettmers.com/wp-content/uploads/2014/08/memory-bandwidth.png?resize=700%2C607)"
   ]
  },
  {
   "cell_type": "markdown",
   "metadata": {
    "slideshow": {
     "slide_type": "slide"
    }
   },
   "source": [
    "# What about this class then ?\n",
    "\n",
    "We are going to classify this :\n",
    "![](http://simonwinder.com/wp-content/uploads/2015/07/mnistExamples.png)"
   ]
  },
  {
   "cell_type": "markdown",
   "metadata": {
    "slideshow": {
     "slide_type": "subslide"
    }
   },
   "source": [
    "### What we'll do in this class :\n",
    "\n",
    "- Implement a logistic regression\n",
    "- Implement mutually exclusive classification (multiclass regression)\n",
    "- Understand a Convolutional Neural Network\n",
    "- Use Tensorflow to solve an Image classification problem (Cats and Dogs)\n",
    "- Use Tensorflow to solve an audio classification problem (Cats and Dogs)\n",
    "- Project: Solve the ESC-50 dataset."
   ]
  },
  {
   "cell_type": "markdown",
   "metadata": {
    "slideshow": {
     "slide_type": "slide"
    }
   },
   "source": [
    "# Lets Learn about Neural Networks...\n",
    "\n",
    "![](https://encrypted-tbn0.gstatic.com/images?q=tbn:ANd9GcTpIE6lqwFcfR3UOnA6fRSOn182rnpXSmZ3_ii_rZv_KRKeQsy-)"
   ]
  },
  {
   "cell_type": "markdown",
   "metadata": {
    "slideshow": {
     "slide_type": "subslide"
    }
   },
   "source": [
    "### Schema of a neuron\n",
    "![](http://www.marekrei.com/blog/wp-content/uploads/2014/01/neuron.png)"
   ]
  },
  {
   "cell_type": "markdown",
   "metadata": {
    "slideshow": {
     "slide_type": "subslide"
    }
   },
   "source": [
    "### Output of a neuron\n",
    "![](https://upload.wikimedia.org/wikipedia/commons/e/e0/Spike_HH_2.png)"
   ]
  },
  {
   "cell_type": "markdown",
   "metadata": {
    "slideshow": {
     "slide_type": "subslide"
    }
   },
   "source": [
    "### Dendrites and Axions\n",
    "![](https://ars.els-cdn.com/content/image/1-s2.0-S0092867415008247-gr6.jpg)"
   ]
  },
  {
   "cell_type": "markdown",
   "metadata": {
    "slideshow": {
     "slide_type": "subslide"
    }
   },
   "source": [
    "### How it really looks like\n",
    "![](https://ars.els-cdn.com/content/image/1-s2.0-S0092867415008247-gr3.jpg)\n",
    "(Saturated Reconstruction of a Volume of Neocortex)"
   ]
  }
 ],
 "metadata": {
  "celltoolbar": "Slideshow",
  "kernelspec": {
   "display_name": "Python 2",
   "language": "python",
   "name": "python2"
  },
  "language_info": {
   "codemirror_mode": {
    "name": "ipython",
    "version": 2
   },
   "file_extension": ".py",
   "mimetype": "text/x-python",
   "name": "python",
   "nbconvert_exporter": "python",
   "pygments_lexer": "ipython2",
   "version": "2.7.6"
  }
 },
 "nbformat": 4,
 "nbformat_minor": 2
}
