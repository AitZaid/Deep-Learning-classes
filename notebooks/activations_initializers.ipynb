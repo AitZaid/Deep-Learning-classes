{
 "cells": [
  {
   "cell_type": "markdown",
   "metadata": {},
   "source": [
    "# Evaluate impact of kernel activation and initialization\n",
    "\n",
    "### 1. Generate random training data"
   ]
  },
  {
   "cell_type": "code",
   "execution_count": null,
   "metadata": {},
   "outputs": [],
   "source": [
    "import numpy as np\n",
    "import matplotlib.pyplot as plt\n",
    "%pylab inline\n",
    "%matplotlib inline\n",
    "pylab.rcParams['figure.figsize'] = (5, 3)\n",
    "\n",
    "\n",
    "X_train = np.random.normal(size=(10000, 100))\n",
    "X_train = np.random.uniform(size=(10000, 100))\n",
    "X_train.shape\n",
    "\n",
    "X_train -= X_train.mean()\n",
    "X_train /= X_train.std()\n",
    "\n",
    "plt.hist(X_train.reshape(-1), 50)\n",
    "plt.show()"
   ]
  },
  {
   "cell_type": "markdown",
   "metadata": {},
   "source": [
    "### 2. Build a simple fully connected model "
   ]
  },
  {
   "cell_type": "code",
   "execution_count": null,
   "metadata": {},
   "outputs": [],
   "source": [
    "import keras\n",
    "import keras.backend as K\n",
    "from keras.layers import Input, Dense\n",
    "from keras.models import Model\n",
    "\n",
    "def simple_FC_model(activation, initializer):\n",
    "    # Define input tensor\n",
    "    input_tensor = Input(shape=(100,))\n",
    "    \n",
    "    # Propagate it through 20 fully connected layers\n",
    "    x = Dense(1024,\n",
    "              activation=activation,\n",
    "              kernel_initializer=initializer)(input_tensor)\n",
    "    for _ in range(70):\n",
    "        x = Dense(1024,\n",
    "                  activation=activation,\n",
    "                  kernel_initializer=initializer)(x)\n",
    "    \n",
    "    # Return the corresponding Keras model\n",
    "    model = Model(input_tensor, x)\n",
    "    return model\n",
    "\n",
    "\n",
    "def show_model(activations, initializers):\n",
    "    \"\"\"Shows prediction distribution for each pair of activation/initializer\n",
    "    \n",
    "    Params:\n",
    "        activations: a list of activations\n",
    "        initializers: a list of initializers (same lenght as activations)\n",
    "    \"\"\"\n",
    "    n_fig = len(activations)\n",
    "    \n",
    "    fig, axs = plt.subplots(1, n_fig)\n",
    "    for i in range(n_fig):\n",
    "        act, init = zip(activations, initializers)[i]\n",
    "        \n",
    "        # Build the model and evaluate it\n",
    "        model = simple_FC_model(act, init)\n",
    "        pred = model.predict(X_train)\n",
    "        K.clear_session()\n",
    "        \n",
    "        # Show the results\n",
    "        act = act if isinstance(act, str) else act.func_name\n",
    "        init = init if isinstance(init, str) else init.func_name\n",
    "\n",
    "        print \"{} {} std: {:.4f}, mean: {:.3f}\".format(act,\n",
    "                                                 init,\n",
    "                                                 pred.std(),\n",
    "                                                 pred.mean())\n",
    "        axs[i].hist(pred.reshape(-1), 50)\n",
    "        axs[i].set_title(act + \" - \" + init)\n",
    "    plt.show()"
   ]
  },
  {
   "cell_type": "markdown",
   "metadata": {},
   "source": [
    "### 3. Weights initialization\n",
    "\n",
    "http://yann.lecun.com/exdb/publis/pdf/lecun-98b.pdf  \n",
    "http://jmlr.org/proceedings/papers/v9/glorot10a/glorot10a.pdf\n",
    "\n",
    "- Normal: draws weights from a normal distribution with $\\mu=0$ and $\\sigma = 1$\n",
    "\n",
    "- Glorot normal initializer: draws weights from truncated normal with $\\mu=0$ and\n",
    "$\\sigma = \\sqrt\\frac{2}{\\text{fan_in} + \\text{fan_out}}$\n",
    "\n",
    "- Lecun normal initializer: draws weights from truncated normal with $\\mu=0$ and\n",
    "$\\sigma = \\sqrt\\frac{1}{\\text{fan_in}}$\n",
    "\n",
    "--- \n",
    "- Uniform: draws weights from a uniform distribution with $f : \\mathbb{R} \\to [-x_{max}; x_{max}]$ and $x_{max} = 0.05$\n",
    "\n",
    "- Glorot uniform initializer: draws weights Uniform distribution with\n",
    "$x_{max} = \\sqrt\\frac{6}{\\text{fan_in} + \\text{fan_out}}$\n",
    "\n",
    "- Lecun Uniform initializer: draws weights Uniform distribution with\n",
    "$x_{max} = \\sqrt\\frac{3}{\\text{fan_in}}$\n",
    "\n"
   ]
  },
  {
   "cell_type": "markdown",
   "metadata": {},
   "source": [
    "###  4. Show activation distributions\n",
    "##### a) Relu"
   ]
  },
  {
   "cell_type": "code",
   "execution_count": null,
   "metadata": {},
   "outputs": [],
   "source": [
    "pylab.rcParams['figure.figsize'] = (15, 4)\n",
    "activations = ['relu']*4\n",
    "initializers = ['uniform', 'glorot_uniform', 'normal', 'glorot_normal']\n",
    "show_model(activations, initializers)"
   ]
  },
  {
   "cell_type": "markdown",
   "metadata": {},
   "source": [
    "##### b) Sigmoid"
   ]
  },
  {
   "cell_type": "code",
   "execution_count": 47,
   "metadata": {},
   "outputs": [
    {
     "name": "stdout",
     "output_type": "stream",
     "text": [
      "sigmoid uniform std: 0.1130, mean: 0.496\n",
      "sigmoid glorot_uniform std: 0.1190, mean: 0.499\n",
      "sigmoid lecun_uniform std: 0.1198, mean: 0.499\n",
      "sigmoid normal std: 0.1797, mean: 0.503\n",
      "sigmoid glorot_normal std: 0.1081, mean: 0.498\n",
      "sigmoid lecun_normal std: 0.1048, mean: 0.499\n"
     ]
    },
    {
     "data": {
      "image/png": "[encoded data removed]",
      "text/plain": [
       "<matplotlib.figure.Figure at 0x7f1b1c484310>"
      ]
     },
     "metadata": {},
     "output_type": "display_data"
    }
   ],
   "source": [
    "pylab.rcParams['figure.figsize'] = (15, 4)\n",
    "activations = ['sigmoid']*6\n",
    "initializers = ['uniform', 'glorot_uniform', 'lecun_uniform', 'normal', 'glorot_normal', 'lecun_normal']\n",
    "show_model(activations, initializers)"
   ]
  },
  {
   "cell_type": "markdown",
   "metadata": {},
   "source": [
    "##### c) tanh"
   ]
  },
  {
   "cell_type": "code",
   "execution_count": null,
   "metadata": {},
   "outputs": [],
   "source": [
    "pylab.rcParams['figure.figsize'] = (15, 4)\n",
    "activations = ['tanh']*4\n",
    "initializers = ['uniform', 'glorot_uniform', 'normal', 'glorot_normal']\n",
    "show_model(activations, initializers)"
   ]
  },
  {
   "cell_type": "markdown",
   "metadata": {},
   "source": [
    "##### c) Lecun tanh"
   ]
  },
  {
   "cell_type": "code",
   "execution_count": null,
   "metadata": {},
   "outputs": [],
   "source": [
    "pylab.rcParams['figure.figsize'] = (15, 4)\n",
    "\n",
    "def lecun_tanh(x):\n",
    "    return 1.7159 * K.tanh(2 * x / 3)\n",
    "\n",
    "activations = [lecun_tanh]*6\n",
    "initializers = ['uniform', 'glorot_uniform', 'lecun_uniform', 'normal', 'glorot_normal', 'lecun_normal']\n",
    "show_model(activations, initializers)"
   ]
  },
  {
   "cell_type": "code",
   "execution_count": null,
   "metadata": {
    "collapsed": true
   },
   "outputs": [],
   "source": []
  }
 ],
 "metadata": {
  "kernelspec": {
   "display_name": "Python 2",
   "language": "python",
   "name": "python2"
  },
  "language_info": {
   "codemirror_mode": {
    "name": "ipython",
    "version": 2
   },
   "file_extension": ".py",
   "mimetype": "text/x-python",
   "name": "python",
   "nbconvert_exporter": "python",
   "pygments_lexer": "ipython2",
   "version": "2.7.6"
  }
 },
 "nbformat": 4,
 "nbformat_minor": 2
}
