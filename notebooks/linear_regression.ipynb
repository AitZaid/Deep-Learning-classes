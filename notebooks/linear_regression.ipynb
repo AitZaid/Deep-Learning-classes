{
 "cells": [
  {
   "cell_type": "markdown",
   "metadata": {},
   "source": [
    "# Linear Regression\n",
    "\n",
    "### Load Data\n",
    "We load data from the web (http://www.quandl.com)\n",
    "\n",
    "- london gold index (LBMA/GOLD)\n",
    "- london silver index (LBMA/SILVER)"
   ]
  },
  {
   "cell_type": "code",
   "execution_count": 1,
   "metadata": {},
   "outputs": [
    {
     "ename": "ImportError",
     "evalue": "No module named src.regression",
     "output_type": "error",
     "traceback": [
      "\u001b[0;31m---------------------------------------------------------------------------\u001b[0m",
      "\u001b[0;31mImportError\u001b[0m                               Traceback (most recent call last)",
      "\u001b[0;32m<ipython-input-1-7f25960a6ead>\u001b[0m in \u001b[0;36m<module>\u001b[0;34m()\u001b[0m\n\u001b[0;32m----> 1\u001b[0;31m \u001b[0;32mfrom\u001b[0m \u001b[0msrc\u001b[0m\u001b[0;34m.\u001b[0m\u001b[0mregression\u001b[0m \u001b[0;32mimport\u001b[0m \u001b[0mlinear_regression\u001b[0m\u001b[0;34m\u001b[0m\u001b[0m\n\u001b[0m\u001b[1;32m      2\u001b[0m \u001b[0;31m# from src.regression import linear_regression\u001b[0m\u001b[0;34m\u001b[0m\u001b[0;34m\u001b[0m\u001b[0m\n\u001b[1;32m      3\u001b[0m \u001b[0;31m# from linear_regression import *\u001b[0m\u001b[0;34m\u001b[0m\u001b[0;34m\u001b[0m\u001b[0m\n\u001b[1;32m      4\u001b[0m \u001b[0;31m# %matplotlib inline\u001b[0m\u001b[0;34m\u001b[0m\u001b[0;34m\u001b[0m\u001b[0m\n\u001b[1;32m      5\u001b[0m \u001b[0;34m\u001b[0m\u001b[0m\n",
      "\u001b[0;31mImportError\u001b[0m: No module named src.regression"
     ]
    }
   ],
   "source": [
    "from os import sys, path\n",
    "sys.path.append(path.abspath('../src/regression'))\n",
    "import linear_regression\n",
    "from linear_regression import *\n",
    "%matplotlib inline\n",
    "\n",
    "# We use the london market to get the stock values of gold and silver\n",
    "gold = quandl.get(\"LBMA/GOLD\", returns=\"numpy\", start_date=\"2015-01-01\")\n",
    "silver = quandl.get(\"LBMA/SILVER\", returns=\"numpy\", start_date=\"2015-01-01\")\n",
    "copper = quandl.get(\"CHRIS/CME_SI3\", returns=\"numpy\", start_date=\"2015-01-01\")"
   ]
  },
  {
   "cell_type": "markdown",
   "metadata": {},
   "source": [
    "### Format Data\n",
    "\n",
    "We downloaded the london daily gold and silver values in dollars of the past two years. For each days (x_silver or x_gold), we have gold value (y_gold) and the silver value (y_silver) in dollars.\n",
    "\n",
    "We vizualize gold and silver values in time (left plot) and visualize how gold value depends on silver (right plot)."
   ]
  },
  {
   "cell_type": "code",
   "execution_count": null,
   "metadata": {},
   "outputs": [],
   "source": [
    "# Retrieve gold and silver values in $ by day\n",
    "XY_gold = stock_arr_to_XY(gold)\n",
    "XY_silver = stock_arr_to_XY(silver)\n",
    "XY_copper = stock_arr_to_XY(copper)\n",
    "\n",
    "# Filter arrays such that gold and silver shares the same Xs\n",
    "XY_gold, XY_silver = filter_on_same_X(XY_gold, XY_silver)\n",
    "XY_gold, XY_copper = filter_on_same_X(XY_gold, XY_copper)\n",
    "XY_copper, XY_silver = filter_on_same_X(XY_copper, XY_silver)\n",
    "\n",
    "x_gold, y_gold = XY_gold\n",
    "x_silver, y_silver = XY_silver\n",
    "x_copper, y_copper = XY_copper\n",
    "\n",
    "# Plot the data\n",
    "plot_data(XY_silver, XY_gold, 'silver', 'gold')\n",
    "plot_data(XY_copper, XY_gold, 'copper', 'gold')"
   ]
  },
  {
   "cell_type": "markdown",
   "metadata": {},
   "source": [
    "---\n",
    "# Linear Regression\n",
    "\n",
    "### Train Linear Regression On Gold knowing Silver\n",
    "\n",
    "(In case of doubts, read this : http://cs229.stanford.edu/notes/cs229-notes1.pdf)\n",
    "\n",
    "We want to know whether the gold and the silver values are correlated. We hypothesize that the price of Gold (y_gold or Y) is linearly equal to the one of Silver (y_silver or X) :  \n",
    "- $P = w*X + b$  \n",
    "Where $w$ (the weight) and $b$ (the bias) are the linear parameters of our hypothesis (or prediction).\n",
    "\n",
    "We are going to set the weight and bias to some random values and compute how far our predictions $P$ are from the true gold value $Y$. They are many distances we can chose from, one of which is the sum of squares (L2 distance):  \n",
    "- $L = \\sum_i 1/2*(y^i - p^i)^2$  \n",
    "($L$ stands for Loss, it's also called cost function...).\n"
   ]
  },
  {
   "cell_type": "code",
   "execution_count": null,
   "metadata": {},
   "outputs": [],
   "source": [
    "# Rename y_silver to X and y_gold to Y\n",
    "X, Y = [np.array(y_silver), ], np.array(y_gold)\n",
    "\n",
    "# Initilize the parameters\n",
    "Ws = [0.5, 0.5]\n",
    "alphas = (0.0001, 0.01)\n",
    "\n",
    "# Load Trainer\n",
    "t = Trainer(X, Y, Ws, alphas)\n",
    "\n",
    "# Define Prediction and Loss\n",
    "t.pred = lambda X : np.multiply(X[0], t.Ws[0]) + t.Ws[1]\n",
    "t.loss = lambda : (np.power((t.Y - t.pred(X)), 2) * 1 / 2.).mean()\n",
    "\n",
    "# Define the gradient functions\n",
    "dl_dp = lambda : -(t.Y - t.pred(X))\n",
    "dl_dw0 = lambda : np.multiply(dl_dp(), X[0]).mean()\n",
    "dl_dw1 = lambda : dl_dp().mean()\n",
    "t.dWs = (dl_dw0, dl_dw1)\n",
    "\n",
    "# Start training\n",
    "anim = t.animated_train(is_notebook=True)\n",
    "\n",
    "# Show it\n",
    "from IPython.display import HTML\n",
    "HTML(anim.to_html5_video())"
   ]
  },
  {
   "cell_type": "code",
   "execution_count": null,
   "metadata": {},
   "outputs": [],
   "source": [
    "print \"Final Loss is %f\" % t.loss()"
   ]
  }
 ],
 "metadata": {
  "kernelspec": {
   "display_name": "Python 2",
   "language": "python",
   "name": "python2"
  },
  "language_info": {
   "codemirror_mode": {
    "name": "ipython",
    "version": 2
   },
   "file_extension": ".py",
   "mimetype": "text/x-python",
   "name": "python",
   "nbconvert_exporter": "python",
   "pygments_lexer": "ipython2",
   "version": "2.7.6"
  }
 },
 "nbformat": 4,
 "nbformat_minor": 2
}
