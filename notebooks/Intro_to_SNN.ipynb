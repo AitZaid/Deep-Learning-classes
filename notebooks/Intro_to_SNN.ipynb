{
 "cells": [
  {
   "cell_type": "markdown",
   "metadata": {},
   "source": [
    "# Moving to Shallow Neural Networks\n",
    "\n",
    "In this tutorial, you'll implement a shallow neural network to classify digits ranging from 0 to 9. The dataset you'll use is quite famous, it's called 'MNIST' http://yann.lecun.com/exdb/mnist/. A French guy put it up, he's very famous in the DL comunity, he's called Yann Lecun and is now both head of the Facebook AI reseach program and head of something in the University of New York...\n",
    "\n",
    "\n",
    "### First step\n",
    "\n",
    "As a first step, I invite you to discover what is MNIST. You might find [this notebook](https://nbviewer.jupyter.org/github/marc-moreaux/Deep-Learning-classes/blob/master/notebooks/dataset_MNIST.ipynb) to be usefull, but feel to browse the web.\n",
    "\n",
    "Once you get the idea, you can download the dataset "
   ]
  },
  {
   "cell_type": "code",
   "execution_count": null,
   "metadata": {},
   "outputs": [],
   "source": [
    "# Download the dataset in this directory (does that work on Windows OS ?)\n",
    "! wget http://deeplearning.net/data/mnist/mnist.pkl.gz"
   ]
  },
  {
   "cell_type": "code",
   "execution_count": null,
   "metadata": {},
   "outputs": [],
   "source": [
    "import cPickle, gzip, numpy\n",
    "import numpy as np\n",
    "\n",
    "# Load the dataset\n",
    "f = gzip.open('mnist.pkl.gz', 'rb')\n",
    "train_set, valid_set, test_set = cPickle.load(f)\n",
    "f.close()\n",
    "\n",
    "def to_one_hot(y, n_classes=10): # You might want to use this as some point...\n",
    "    _y = np.zeros((len(y), n_classes))\n",
    "    _y[np.arange(len(y)), y] = 1\n",
    "    return _y\n",
    "\n",
    "X_train, y_train = train_set[0], train_set[1]\n",
    "X_valid, y_valid = valid_set[0], valid_set[1]\n",
    "X_test,  y_test  = test_set[0],  test_set[1]"
   ]
  },
  {
   "cell_type": "markdown",
   "metadata": {},
   "source": [
    "---\n",
    "# You can now implement a 2 layers NN\n",
    "\n",
    "Now that you have the data, you can build the a shallow neural network (SNN). I expect your SNN to have two layers. \n",
    "    - Layer 1 has 20 neurons with a sigmoid activation\n",
    "    - Layer 2 has 10 neurons with a softmax activation\n",
    "    - Loss is Negative Log Likelihood (wich is also the cross entropy)\n",
    "    \n",
    "You'll need to comment your work such that I understand that you understand what you are doing"
   ]
  },
  {
   "cell_type": "markdown",
   "metadata": {},
   "source": [
    "### 1 - Define Parameters"
   ]
  },
  {
   "cell_type": "code",
   "execution_count": null,
   "metadata": {},
   "outputs": [],
   "source": [
    "# HELPER \n",
    "def softmax(Z):\n",
    "    \"\"\"Z is a vector eg. [1,2,3]\n",
    "    return: the vector softmax(Z) eg. [.09, .24, .67]\n",
    "    \"\"\"\n",
    "    return np.exp(Z) / np.exp(Z).sum(axis=0)\n",
    "    \n",
    "\n",
    "# Define the variables here (initialize the weights with the np.random.normal module):\n",
    "W1, b1 =\n",
    "W2, b2 =\n"
   ]
  },
  {
   "cell_type": "markdown",
   "metadata": {},
   "source": [
    "### 2 - Define Model"
   ]
  },
  {
   "cell_type": "code",
   "execution_count": null,
   "metadata": {
    "collapsed": true
   },
   "outputs": [],
   "source": [
    "def Pred(X, ??? ):\n",
    "    \"\"\"Explanations ...\n",
    "    Arguments:\n",
    "        X: An input image (as a vector)(shape is <784,1>)\n",
    "    Returns : a vector ???\n",
    "    \"\"\"\n",
    "    pass\n",
    "\n",
    "def loss(P, Y):\n",
    "    \"\"\"Explanations : \n",
    "    Arguments:\n",
    "        P: The prediction vector corresponding to an image (X^s)\n",
    "        Y: The ground truth of an image\n",
    "    Returns: a vector ???\n",
    "    \"\"\"\n",
    "    pass"
   ]
  },
  {
   "cell_type": "markdown",
   "metadata": {},
   "source": [
    "### 3 - Define Derivatives"
   ]
  },
  {
   "cell_type": "code",
   "execution_count": null,
   "metadata": {},
   "outputs": [],
   "source": [
    "def dW1( ??? ):\n",
    "    \"\"\"Explanations ??\n",
    "    Returns: A vector which is the derivative of the loss with respect to W1\n",
    "    \"\"\"\n",
    "    pass \n",
    "\n",
    "\n",
    "def db1(L, ???):\n",
    "    \"\"\"Explanations ??\n",
    "    Arguments:\n",
    "        L is the loss af a sample (a scalar)\n",
    "    Returns: A scalar which is the derivative of the Loss with respect to b1\n",
    "    \"\"\"\n",
    "    pass\n",
    "\n",
    "\n",
    "def dW2( ??? ):\n",
    "    pass\n",
    "\n",
    "\n",
    "def db2( ??? ):\n",
    "    pass"
   ]
  },
  {
   "cell_type": "markdown",
   "metadata": {},
   "source": [
    "### 4 - Train you model\n",
    "\n",
    "You may use Standard Gradient Descent (SGD) to train your model. (Experiment with many learning rates)"
   ]
  },
  {
   "cell_type": "code",
   "execution_count": null,
   "metadata": {
    "collapsed": true
   },
   "outputs": [],
   "source": []
  },
  {
   "cell_type": "markdown",
   "metadata": {},
   "source": [
    "### 5 - Test the accuracy of your model on the Test set"
   ]
  },
  {
   "cell_type": "code",
   "execution_count": null,
   "metadata": {
    "collapsed": true
   },
   "outputs": [],
   "source": []
  },
  {
   "cell_type": "markdown",
   "metadata": {},
   "source": [
    "---\n",
    "# You can now go Deeper\n",
    "\n",
    "Build a deeper model trained with SGD (You don't need to use the biases here)\n",
    "    - Layer 1 has 10 neurons with a sigmoid activation\n",
    "    - Layer 2 has 10 neurons with a sigmoid activation\n",
    "    - Layer 3 has 10 neurons with a sigmoid activation\n",
    "    - Layer 4 has 10 neurons with a sigmoid activation\n",
    "    - Layer 5 has 10 neurons with a sigmoid activation\n",
    "    - Layer 6 has 10 neurons with a softmax activation\n",
    "    - Loss is Negative Log Likelihood\n",
    "\n",
    "Is it converging ? Why ? What's wrong ?"
   ]
  },
  {
   "cell_type": "code",
   "execution_count": null,
   "metadata": {
    "collapsed": true
   },
   "outputs": [],
   "source": []
  }
 ],
 "metadata": {
  "kernelspec": {
   "display_name": "Python 2",
   "language": "python",
   "name": "python2"
  },
  "language_info": {
   "codemirror_mode": {
    "name": "ipython",
    "version": 2
   },
   "file_extension": ".py",
   "mimetype": "text/x-python",
   "name": "python",
   "nbconvert_exporter": "python",
   "pygments_lexer": "ipython2",
   "version": "2.7.6"
  }
 },
 "nbformat": 4,
 "nbformat_minor": 2
}
