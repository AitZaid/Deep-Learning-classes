{
 "cells": [
  {
   "cell_type": "markdown",
   "metadata": {},
   "source": [
    "# Logistic Regression\n",
    "\n",
    "(before Multinomial logistic regression)\n",
    "We want to predict the probability of an input belonging to one of two classes.\n",
    "\n",
    "---\n",
    "\n",
    "\n",
    "## Study case : \n",
    "Perform logisitc regression to classify the cats and dogs dataset.\n",
    "#### a) Dataset\n",
    "- Input : Images of size ?? where a cat or a dog is present\n",
    "- Output : 0 if the input is a cat, 1 otherwise\n",
    "\n",
    "#### b) Classifier\n",
    "Logistic regression in 3 steps :\n",
    "- p = exp(W^t X + b)\n",
    "- C = - y.ln(p) - (1-y)(ln(1-p))\n",
    "- Gradient descent ^^"
   ]
  },
  {
   "cell_type": "code",
   "execution_count": null,
   "metadata": {
    "collapsed": true
   },
   "outputs": [],
   "source": []
  },
  {
   "cell_type": "code",
   "execution_count": null,
   "metadata": {
    "collapsed": true
   },
   "outputs": [],
   "source": []
  }
 ],
 "metadata": {
  "kernelspec": {
   "display_name": "Python 2",
   "language": "python",
   "name": "python2"
  },
  "language_info": {
   "codemirror_mode": {
    "name": "ipython",
    "version": 2
   },
   "file_extension": ".py",
   "mimetype": "text/x-python",
   "name": "python",
   "nbconvert_exporter": "python",
   "pygments_lexer": "ipython2",
   "version": "2.7.6"
  }
 },
 "nbformat": 4,
 "nbformat_minor": 2
}
