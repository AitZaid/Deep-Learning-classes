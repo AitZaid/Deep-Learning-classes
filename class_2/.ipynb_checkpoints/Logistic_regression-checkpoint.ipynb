{
 "cells": [
  {
   "cell_type": "markdown",
   "metadata": {},
   "source": [
    "# Logistic Regression\n",
    "\n",
    "(before Multinomial logistic regression)\n",
    "We want to predict the probability of an input belonging to one of two classes.\n",
    "\n",
    "---\n",
    "\n",
    "\n",
    "## Study case : \n",
    "Perform logisitc regression to classify the cats and dogs dataset.\n",
    "\n",
    "http://cs229.stanford.edu/notes/cs229-notes1.pdf p.16\n",
    "#### a) Dataset\n",
    "- Input : Images of size ?? where a cat or a dog is present\n",
    "- Output : 0 if the input is a cat, 1 otherwise\n",
    "\n",
    "#### b) Classifier\n",
    "Logistic regression in 3 steps :\n",
    "- p = exp(W^t X + b)\n",
    "- C = - y.ln(p) - (1-y)(ln(1-p))\n",
    "- Gradient descent ^^"
   ]
  },
  {
   "cell_type": "markdown",
   "metadata": {},
   "source": [
    "## Dataset !\n",
    "- Load it\n",
    "- check it\n",
    "- quick\n",
    "- rewrite it"
   ]
  },
  {
   "cell_type": "code",
   "execution_count": null,
   "metadata": {
    "collapsed": true
   },
   "outputs": [],
   "source": [
    "# Download the cats vs dogs dataset\n",
    "# From here https://www.kaggle.com/c/dogs-vs-cats/data\n",
    "# Move the train.zip file here\n",
    "!unzip train.zip -d ."
   ]
  },
  {
   "cell_type": "code",
   "execution_count": 1,
   "metadata": {},
   "outputs": [
    {
     "name": "stderr",
     "output_type": "stream",
     "text": [
      "/usr/local/lib/python2.7/dist-packages/skimage/transform/_warps.py:84: UserWarning: The default mode, 'constant', will be changed to 'reflect' in skimage 0.15.\n",
      "  warn(\"The default mode, 'constant', will be changed to 'reflect' in \"\n"
     ]
    },
    {
     "data": {
      "image/png": "[encoded data removed]",
      "text/plain": [
       "<matplotlib.figure.Figure at 0x7f7a2a5c4790>"
      ]
     },
     "metadata": {},
     "output_type": "display_data"
    }
   ],
   "source": [
    "from skimage.io import imread\n",
    "from skimage.transform import resize\n",
    "import matplotlib.pyplot as plt\n",
    "import numpy as np\n",
    "import os\n",
    "import random\n",
    "\n",
    "IMG_SIZE = 30  # width of the squared resized images\n",
    "\n",
    "\n",
    "def read_img(img_path, as_vector=True):\n",
    "    img = imread(img_path)\n",
    "    img = resize(img, [IMG_SIZE, IMG_SIZE])\n",
    "    img = img.sum(axis=2)\n",
    "    if as_vector is True:\n",
    "        img = img.reshape(-1)\n",
    "    return img\n",
    "\n",
    "\n",
    "def batch_generator(batch_size=10):\n",
    "    while True:\n",
    "        db = os.listdir(\"./train\")\n",
    "        random.shuffle(db)\n",
    "        batch_x = np.zeros((batch_size, IMG_SIZE * IMG_SIZE))\n",
    "        batch_y = np.zeros((batch_size,))\n",
    "        for _ in range(len(db) / batch_size):  # new batch\n",
    "            for i in range(batch_size): # fill the batch\n",
    "                img_name = db.pop()\n",
    "                batch_x[i] = read_img(\"./train/\" + img_name)\n",
    "                batch_y[i] = 0 if img_name[:3] == 'dog' else 1\n",
    "            yield batch_x, batch_y\n",
    "\n",
    "img = read_img('./train/dog.5507.jpg', as_vector=False)\n",
    "plt.imshow(img, cmap='gray')\n",
    "plt.show()"
   ]
  },
  {
   "cell_type": "markdown",
   "metadata": {},
   "source": [
    "## Train\n",
    "- Cross it\n",
    "- crack it\n",
    "- switch\n",
    "- update it"
   ]
  },
  {
   "cell_type": "code",
   "execution_count": 2,
   "metadata": {
    "scrolled": false
   },
   "outputs": [],
   "source": [
    "gen = batch_generator(1)\n",
    "valid_gen = batch_generator(100)\n",
    "X_valid, Y_valid = valid_gen.next()\n",
    "\n",
    "W = np.random.normal(size=IMG_SIZE * IMG_SIZE)\n",
    "b = np.random.normal()\n",
    "\n",
    "log = lambda x: np.log(x + 1e-8)\n",
    "exp = lambda x: np.exp(x + 1e-8)\n",
    "\n",
    "alph_ = 1.6732632423543772848170429916717\n",
    "lambd_ = 1.0507009873554804934193349852946\n",
    "linear = lambda x: np.dot(W.T, x) + b\n",
    "sigm = lambda x: 1 / (1 + exp(-x))\n",
    "elu = lambda x, alpha: np.maximum(x, alpha * (exp(x) - 1))\n",
    "selu = lambda x: lambd_ * elu(x, alph_)\n",
    "nll = lambda p, y: - y * log(p) - (1 - y) * log(1 - p)\n"
   ]
  },
  {
   "cell_type": "code",
   "execution_count": 3,
   "metadata": {
    "scrolled": true
   },
   "outputs": [
    {
     "ename": "NameError",
     "evalue": "name 'y' is not defined",
     "output_type": "error",
     "traceback": [
      "\u001b[0;31m---------------------------------------------------------------------------\u001b[0m",
      "\u001b[0;31mNameError\u001b[0m                                 Traceback (most recent call last)",
      "\u001b[0;32m<ipython-input-3-59975f2788cd>\u001b[0m in \u001b[0;36m<module>\u001b[0;34m()\u001b[0m\n\u001b[1;32m     33\u001b[0m         \u001b[0mX\u001b[0m\u001b[0;34m,\u001b[0m \u001b[0mY\u001b[0m \u001b[0;34m=\u001b[0m \u001b[0mgen\u001b[0m\u001b[0;34m.\u001b[0m\u001b[0mnext\u001b[0m\u001b[0;34m(\u001b[0m\u001b[0;34m)\u001b[0m\u001b[0;34m\u001b[0m\u001b[0m\n\u001b[1;32m     34\u001b[0m         \u001b[0mX\u001b[0m\u001b[0;34m,\u001b[0m \u001b[0mY\u001b[0m \u001b[0;34m=\u001b[0m \u001b[0mX\u001b[0m\u001b[0;34m[\u001b[0m\u001b[0;36m0\u001b[0m\u001b[0;34m]\u001b[0m\u001b[0;34m,\u001b[0m \u001b[0mY\u001b[0m\u001b[0;34m[\u001b[0m\u001b[0;36m0\u001b[0m\u001b[0;34m]\u001b[0m\u001b[0;34m\u001b[0m\u001b[0m\n\u001b[0;32m---> 35\u001b[0;31m         \u001b[0m_loss\u001b[0m \u001b[0;34m+=\u001b[0m \u001b[0mloss\u001b[0m\u001b[0;34m(\u001b[0m\u001b[0mX\u001b[0m\u001b[0;34m,\u001b[0m \u001b[0my\u001b[0m\u001b[0;34m)\u001b[0m\u001b[0;34m\u001b[0m\u001b[0m\n\u001b[0m\u001b[1;32m     36\u001b[0m         \u001b[0mW\u001b[0m \u001b[0;34m=\u001b[0m \u001b[0mW\u001b[0m \u001b[0;34m-\u001b[0m \u001b[0malpha\u001b[0m \u001b[0;34m*\u001b[0m \u001b[0mgradient_loss\u001b[0m\u001b[0;34m(\u001b[0m\u001b[0mX\u001b[0m\u001b[0;34m,\u001b[0m \u001b[0mY\u001b[0m\u001b[0;34m)\u001b[0m\u001b[0;34m\u001b[0m\u001b[0m\n\u001b[1;32m     37\u001b[0m     \u001b[0mlosses\u001b[0m\u001b[0;34m.\u001b[0m\u001b[0mappend\u001b[0m\u001b[0;34m(\u001b[0m\u001b[0m_loss\u001b[0m \u001b[0;34m/\u001b[0m \u001b[0;36m2000\u001b[0m\u001b[0;34m)\u001b[0m\u001b[0;34m\u001b[0m\u001b[0m\n",
      "\u001b[0;31mNameError\u001b[0m: name 'y' is not defined"
     ]
    }
   ],
   "source": [
    "def prob(X):\n",
    "    return sigm(linear(X))\n",
    "\n",
    "\n",
    "def loss(X, y):\n",
    "    # loss = -   y .ln(  sigm(WT.X+b))\n",
    "    #        -(1-y).ln(1-sigm(WT.X+b))\n",
    "    p = prob(X)\n",
    "    return nll(p, y)\n",
    "\n",
    "\n",
    "def gradient_loss(X, y):\n",
    "    # d.loss / d.W = (p-y).X\n",
    "    p = prob(X)\n",
    "    return ((p - y) * X)\n",
    "\n",
    "\n",
    "def evaluate():\n",
    "    probs = np.array(map(prob, X_valid))\n",
    "    loss = nll(probs, Y_valid)\n",
    "    loss = loss.mean()\n",
    "    probs = map(round, probs)\n",
    "    accuracy = sum(probs == Y_valid)\n",
    "    return accuracy, loss\n",
    "    \n",
    "\n",
    "losses = []\n",
    "alpha = 0.001\n",
    "for epoch in range(60):\n",
    "    _loss = 0\n",
    "    alpha *= 0.95\n",
    "    for _ in range(2000):\n",
    "        X, Y = gen.next()\n",
    "        X, Y = X[0], Y[0]\n",
    "        _loss += loss(X, Y) \n",
    "        W = W - alpha * gradient_loss(X, Y)\n",
    "    losses.append(_loss / 2000)\n",
    "    print epoch, losses[-1], evaluate(), alpha"
   ]
  },
  {
   "cell_type": "code",
   "execution_count": null,
   "metadata": {
    "scrolled": true
   },
   "outputs": [],
   "source": [
    "plt.plot(losses)\n",
    "plt.show()"
   ]
  },
  {
   "cell_type": "code",
   "execution_count": null,
   "metadata": {
    "scrolled": true
   },
   "outputs": [],
   "source": [
    "def prob(X):\n",
    "    return sigm(selu(linear(X)))\n",
    "\n",
    "\n",
    "def loss(X, y):\n",
    "    # loss = -   y .ln(  sigm(WT.X+b))\n",
    "    #        -(1-y).ln(1-sigm(WT.X+b))\n",
    "    p = prob(X)\n",
    "    return nll(p, y)\n",
    "\n",
    "\n",
    "def gradient_loss(X, y):\n",
    "    # d.loss / d.W = (p-y).X\n",
    "    p = prob(X)\n",
    "    if linear(X) <= 0:\n",
    "        return X * (p - y) * (p + lambd_ * lambd_)\n",
    "    else: \n",
    "        return X * (p - y) * lambd_\n",
    "\n",
    "\n",
    "def evaluate():\n",
    "    probs = np.array(map(prob, X_valid))\n",
    "    loss = nll(probs, Y_valid)\n",
    "    loss = loss.mean()\n",
    "    probs = map(round, probs)\n",
    "    accuracy = sum(probs == Y_valid)\n",
    "    return accuracy, loss\n",
    "    \n",
    "\n",
    "losses = []\n",
    "alpha = 0.001\n",
    "for epoch in range(30):\n",
    "    _loss = 0\n",
    "    alpha *= 0.95\n",
    "    for _ in range(2000):\n",
    "        X, Y = gen.next()\n",
    "        X, Y = X[0], Y[0]\n",
    "        _loss += loss(X, y)\n",
    "        W = W - alpha * gradient_loss(X, Y)\n",
    "    losses.append(_loss / 2000)\n",
    "    print epoch, losses[-1], evaluate(), alpha"
   ]
  },
  {
   "cell_type": "code",
   "execution_count": null,
   "metadata": {},
   "outputs": [],
   "source": [
    "plt.plot(losses)\n",
    "plt.show()"
   ]
  }
 ],
 "metadata": {
  "kernelspec": {
   "display_name": "Python 2",
   "language": "python",
   "name": "python2"
  },
  "language_info": {
   "codemirror_mode": {
    "name": "ipython",
    "version": 2
   },
   "file_extension": ".py",
   "mimetype": "text/x-python",
   "name": "python",
   "nbconvert_exporter": "python",
   "pygments_lexer": "ipython2",
   "version": "2.7.6"
  }
 },
 "nbformat": 4,
 "nbformat_minor": 2
}
